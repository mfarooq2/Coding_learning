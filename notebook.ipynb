{
 "cells": [
  {
   "cell_type": "code",
   "execution_count": 2,
   "id": "83f7301b-e65b-410d-a61a-1b72232eb98a",
   "metadata": {},
   "outputs": [],
   "source": [
    "x=23"
   ]
  },
  {
   "cell_type": "code",
   "execution_count": 4,
   "id": "7d5a7260-1b6b-4136-bf2b-682700b2fd3a",
   "metadata": {},
   "outputs": [
    {
     "name": "stdout",
     "output_type": "stream",
     "text": [
      "23\n"
     ]
    }
   ],
   "source": [
    "print(x)"
   ]
  },
  {
   "cell_type": "code",
   "execution_count": 6,
   "id": "869dc02f-c72b-45f1-bcf8-2627292f4c38",
   "metadata": {},
   "outputs": [],
   "source": [
    "y=32"
   ]
  },
  {
   "cell_type": "code",
   "execution_count": 8,
   "id": "5f7f158d-bfb8-4a3e-92d8-5caf74f1bd9f",
   "metadata": {},
   "outputs": [],
   "source": [
    "z=x*y"
   ]
  },
  {
   "cell_type": "code",
   "execution_count": 10,
   "id": "7658f41c-a4fe-464f-b91b-4296213c0ef9",
   "metadata": {},
   "outputs": [
    {
     "name": "stdout",
     "output_type": "stream",
     "text": [
      "736\n"
     ]
    }
   ],
   "source": [
    "print(z)"
   ]
  },
  {
   "cell_type": "code",
   "execution_count": 12,
   "id": "fec1fb92-635d-492e-a8e7-1bb687276e12",
   "metadata": {},
   "outputs": [
    {
     "data": {
      "text/plain": [
       "int"
      ]
     },
     "execution_count": 12,
     "metadata": {},
     "output_type": "execute_result"
    }
   ],
   "source": [
    "type(x)"
   ]
  },
  {
   "cell_type": "code",
   "execution_count": 14,
   "id": "d82f951a-7f60-4204-bbf2-b59bf80f830c",
   "metadata": {},
   "outputs": [],
   "source": [
    "x=23.5"
   ]
  },
  {
   "cell_type": "code",
   "execution_count": 16,
   "id": "68bb59b9-c1c2-417e-8153-80c237ea812c",
   "metadata": {},
   "outputs": [
    {
     "data": {
      "text/plain": [
       "float"
      ]
     },
     "execution_count": 16,
     "metadata": {},
     "output_type": "execute_result"
    }
   ],
   "source": [
    "type(x)"
   ]
  },
  {
   "cell_type": "code",
   "execution_count": 24,
   "id": "722bb1ee-5035-4421-95ad-6e4a4ed36ecb",
   "metadata": {},
   "outputs": [],
   "source": [
    "x=\"cat is a moody animal\""
   ]
  },
  {
   "cell_type": "code",
   "execution_count": 20,
   "id": "ac347099-e056-4b16-bf34-dfafd97708e6",
   "metadata": {},
   "outputs": [
    {
     "data": {
      "text/plain": [
       "str"
      ]
     },
     "execution_count": 20,
     "metadata": {},
     "output_type": "execute_result"
    }
   ],
   "source": [
    "type(x)"
   ]
  },
  {
   "cell_type": "code",
   "execution_count": 26,
   "id": "49d78b30-f641-4d44-8f21-ec78e6ce97e5",
   "metadata": {},
   "outputs": [
    {
     "data": {
      "text/plain": [
       "21"
      ]
     },
     "execution_count": 26,
     "metadata": {},
     "output_type": "execute_result"
    }
   ],
   "source": [
    "len(x)"
   ]
  },
  {
   "cell_type": "code",
   "execution_count": 28,
   "id": "438590ae-c412-41ac-a03f-2080e978b715",
   "metadata": {},
   "outputs": [],
   "source": [
    "x=\"catisamoodyanimal\""
   ]
  },
  {
   "cell_type": "code",
   "execution_count": 30,
   "id": "4589c55d-b5c7-47b9-9e7f-db2f8627870c",
   "metadata": {},
   "outputs": [
    {
     "data": {
      "text/plain": [
       "17"
      ]
     },
     "execution_count": 30,
     "metadata": {},
     "output_type": "execute_result"
    }
   ],
   "source": [
    "len(x)"
   ]
  },
  {
   "cell_type": "code",
   "execution_count": 32,
   "id": "8cdf81c8-f444-4470-a991-a786cb9bbc92",
   "metadata": {},
   "outputs": [],
   "source": [
    "y=\"dog is a loyal animal\""
   ]
  },
  {
   "cell_type": "code",
   "execution_count": 38,
   "id": "0f219662-7ec9-418c-a634-0cb4a6054080",
   "metadata": {},
   "outputs": [],
   "source": [
    "z=x+y"
   ]
  },
  {
   "cell_type": "code",
   "execution_count": 40,
   "id": "4a30e8bc-d161-42c0-866b-fbd16ea17013",
   "metadata": {},
   "outputs": [
    {
     "name": "stdout",
     "output_type": "stream",
     "text": [
      "catisamoodyanimaldog is a loyal animal\n"
     ]
    }
   ],
   "source": [
    "print(z)"
   ]
  },
  {
   "cell_type": "code",
   "execution_count": 56,
   "id": "b5173117-0615-4b99-800c-7f6e6a85642a",
   "metadata": {},
   "outputs": [],
   "source": [
    "a=\"3\""
   ]
  },
  {
   "cell_type": "code",
   "execution_count": 44,
   "id": "55f6ff59-9645-44ce-a700-329b4332f27d",
   "metadata": {},
   "outputs": [
    {
     "data": {
      "text/plain": [
       "str"
      ]
     },
     "execution_count": 44,
     "metadata": {},
     "output_type": "execute_result"
    }
   ],
   "source": [
    "type(a)"
   ]
  },
  {
   "cell_type": "code",
   "execution_count": 52,
   "id": "918b41b7-4a00-48e1-9eba-9f0d3ffc42f1",
   "metadata": {},
   "outputs": [],
   "source": [
    "a=3"
   ]
  },
  {
   "cell_type": "code",
   "execution_count": 48,
   "id": "db8da125-3a78-43c0-8963-6cce2601168f",
   "metadata": {},
   "outputs": [
    {
     "data": {
      "text/plain": [
       "int"
      ]
     },
     "execution_count": 48,
     "metadata": {},
     "output_type": "execute_result"
    }
   ],
   "source": [
    "type(a)"
   ]
  },
  {
   "cell_type": "code",
   "execution_count": 50,
   "id": "cdcfe077-9d71-4a28-ad8e-ce9bc11c69a2",
   "metadata": {},
   "outputs": [],
   "source": [
    "b=\"5\""
   ]
  },
  {
   "cell_type": "code",
   "execution_count": 54,
   "id": "51bbd615-a5e0-48c3-b1df-353272d8f3cd",
   "metadata": {},
   "outputs": [
    {
     "ename": "TypeError",
     "evalue": "can't multiply sequence by non-int of type 'str'",
     "output_type": "error",
     "traceback": [
      "\u001b[1;31m---------------------------------------------------------------------------\u001b[0m",
      "\u001b[1;31mTypeError\u001b[0m                                 Traceback (most recent call last)",
      "Cell \u001b[1;32mIn[54], line 1\u001b[0m\n\u001b[1;32m----> 1\u001b[0m c\u001b[38;5;241m=\u001b[39ma\u001b[38;5;241m*\u001b[39mb\n",
      "\u001b[1;31mTypeError\u001b[0m: can't multiply sequence by non-int of type 'str'"
     ]
    }
   ],
   "source": [
    "c=a*b"
   ]
  },
  {
   "cell_type": "code",
   "execution_count": 58,
   "id": "bc7faae2-21d3-45a3-b07e-8ea7745aca95",
   "metadata": {},
   "outputs": [],
   "source": [
    "new_list=[2,\"catisamoodyanimal\",3.5]"
   ]
  },
  {
   "cell_type": "code",
   "execution_count": 60,
   "id": "1852a896-805e-4175-b3c7-2b9ec36df312",
   "metadata": {},
   "outputs": [
    {
     "name": "stdout",
     "output_type": "stream",
     "text": [
      "[2, 'catisamoodyanimal', 3.5]\n"
     ]
    }
   ],
   "source": [
    "print(new_list)"
   ]
  },
  {
   "cell_type": "code",
   "execution_count": 68,
   "id": "c961d75c-184d-409a-b9f8-bbc0f2b388b8",
   "metadata": {},
   "outputs": [
    {
     "ename": "IndexError",
     "evalue": "list index out of range",
     "output_type": "error",
     "traceback": [
      "\u001b[1;31m---------------------------------------------------------------------------\u001b[0m",
      "\u001b[1;31mIndexError\u001b[0m                                Traceback (most recent call last)",
      "Cell \u001b[1;32mIn[68], line 1\u001b[0m\n\u001b[1;32m----> 1\u001b[0m new_list[\u001b[38;5;241m3\u001b[39m]\n",
      "\u001b[1;31mIndexError\u001b[0m: list index out of range"
     ]
    }
   ],
   "source": [
    "new_list[3]"
   ]
  },
  {
   "cell_type": "code",
   "execution_count": null,
   "id": "c8422eaf-eb6f-407c-a644-d310b9e47499",
   "metadata": {},
   "outputs": [],
   "source": []
  }
 ],
 "metadata": {
  "kernelspec": {
   "display_name": "Python 3 (ipykernel)",
   "language": "python",
   "name": "python3"
  },
  "language_info": {
   "codemirror_mode": {
    "name": "ipython",
    "version": 3
   },
   "file_extension": ".py",
   "mimetype": "text/x-python",
   "name": "python",
   "nbconvert_exporter": "python",
   "pygments_lexer": "ipython3",
   "version": "3.12.4"
  }
 },
 "nbformat": 4,
 "nbformat_minor": 5
}
