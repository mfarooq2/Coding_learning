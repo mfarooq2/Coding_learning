{
 "cells": [
  {
   "cell_type": "code",
   "execution_count": 78,
   "id": "a87fea0d-a7b7-4b34-a815-df2472c27a7d",
   "metadata": {},
   "outputs": [],
   "source": [
    "import pandas as pd\n",
    "import glob"
   ]
  },
  {
   "cell_type": "markdown",
   "id": "4da438f6-597b-4fbd-8140-c297ea3745e5",
   "metadata": {},
   "source": [
    "Pandas and glob are two libraries. By the above command we have activated it into this notebook to utilize pandas for data analysis. Glob is a library that helps us look into the contents of a folder. Pandas allows us to use data from a file. these two libraries can perform other similar functions as well. "
   ]
  },
  {
   "cell_type": "code",
   "execution_count": 80,
   "id": "213ff315-bfc2-48bc-bf18-fd20deeb9b9b",
   "metadata": {},
   "outputs": [
    {
     "data": {
      "text/plain": [
       "['example_data\\\\20240926 F52 Labfors.xlsx',\n",
       " 'example_data\\\\External Analysis Nucleic Acids Overview - 20240908.xlsx',\n",
       " 'example_data\\\\F48 20240708 B.csv',\n",
       " 'example_data\\\\F48 20240708 B.xlsx',\n",
       " 'example_data\\\\~$20240926 F52 Labfors.xlsx']"
      ]
     },
     "execution_count": 80,
     "metadata": {},
     "output_type": "execute_result"
    }
   ],
   "source": [
    "glob.glob(\"example_data/*\")"
   ]
  },
  {
   "cell_type": "code",
   "execution_count": 26,
   "id": "3661c900-f5cf-4b25-b175-c98cf581e94c",
   "metadata": {},
   "outputs": [],
   "source": [
    "data=pd.read_excel('example_data\\\\20240926 F52 Labfors.xlsx',sheet_name=\"Growth curve\")"
   ]
  },
  {
   "cell_type": "markdown",
   "id": "5b97d008-5e31-4bd1-b3b5-43b15da9fc9e",
   "metadata": {},
   "source": [
    "Here the pandas library is reading the excel file. and storing it as a data frame inside the variable data. "
   ]
  },
  {
   "cell_type": "code",
   "execution_count": 8,
   "id": "a4c14e79-4c7e-4c7e-b8cc-c14602ce5393",
   "metadata": {},
   "outputs": [],
   "source": []
  },
  {
   "cell_type": "code",
   "execution_count": 24,
   "id": "0f24e6e8-da3e-4181-b1ec-f11403b77bf9",
   "metadata": {},
   "outputs": [
    {
     "data": {
      "text/plain": [
       "['example_data\\\\20240926 F52 Labfors.xlsx',\n",
       " 'example_data\\\\External Analysis Nucleic Acids Overview - 20240908.xlsx',\n",
       " 'example_data\\\\F48 20240708 B.csv',\n",
       " 'example_data\\\\F48 20240708 B.xlsx']"
      ]
     },
     "execution_count": 24,
     "metadata": {},
     "output_type": "execute_result"
    }
   ],
   "source": []
  },
  {
   "cell_type": "markdown",
   "id": "5b247ecc-b94a-46ca-9bb1-7d342af749b0",
   "metadata": {},
   "source": [
    "* is wild card director. * here in above command * defines which file out of the example_data folder will be called into glob library. if *.csv the it brings only csv files, if *.xlsx it brings only xlsx files. If * alone means all the contents.  "
   ]
  },
  {
   "cell_type": "code",
   "execution_count": 60,
   "id": "8a983797-8430-4a7b-9e05-88d02c7540c6",
   "metadata": {},
   "outputs": [],
   "source": [
    "df=data[[\"relative time\",\"OD\",\"LogOD\"]][2:14]"
   ]
  },
  {
   "cell_type": "markdown",
   "id": "22d54997-a55b-4f7d-8594-1a3631778948",
   "metadata": {},
   "source": [
    "here i have stored the data as a variable df, with specific columns and rows defined by range 2:14; columns defined by their names e.g.  relative time, OD, LogOD. "
   ]
  },
  {
   "cell_type": "code",
   "execution_count": 62,
   "id": "8cc134e1-b320-4d8e-ae30-6af5685d7bd7",
   "metadata": {},
   "outputs": [
    {
     "data": {
      "text/html": [
       "<div>\n",
       "<style scoped>\n",
       "    .dataframe tbody tr th:only-of-type {\n",
       "        vertical-align: middle;\n",
       "    }\n",
       "\n",
       "    .dataframe tbody tr th {\n",
       "        vertical-align: top;\n",
       "    }\n",
       "\n",
       "    .dataframe thead th {\n",
       "        text-align: right;\n",
       "    }\n",
       "</style>\n",
       "<table border=\"1\" class=\"dataframe\">\n",
       "  <thead>\n",
       "    <tr style=\"text-align: right;\">\n",
       "      <th></th>\n",
       "      <th>relative time</th>\n",
       "      <th>OD</th>\n",
       "      <th>LogOD</th>\n",
       "    </tr>\n",
       "  </thead>\n",
       "  <tbody>\n",
       "    <tr>\n",
       "      <th>2</th>\n",
       "      <td>0.315278</td>\n",
       "      <td>0.46</td>\n",
       "      <td>0.000000</td>\n",
       "    </tr>\n",
       "    <tr>\n",
       "      <th>3</th>\n",
       "      <td>1.302778</td>\n",
       "      <td>0.71</td>\n",
       "      <td>0.434038</td>\n",
       "    </tr>\n",
       "    <tr>\n",
       "      <th>4</th>\n",
       "      <td>2.301389</td>\n",
       "      <td>0.93</td>\n",
       "      <td>0.703958</td>\n",
       "    </tr>\n",
       "    <tr>\n",
       "      <th>5</th>\n",
       "      <td>3.329444</td>\n",
       "      <td>1.25</td>\n",
       "      <td>0.999672</td>\n",
       "    </tr>\n",
       "    <tr>\n",
       "      <th>6</th>\n",
       "      <td>4.374444</td>\n",
       "      <td>1.53</td>\n",
       "      <td>1.201797</td>\n",
       "    </tr>\n",
       "    <tr>\n",
       "      <th>7</th>\n",
       "      <td>5.328056</td>\n",
       "      <td>2.00</td>\n",
       "      <td>1.469676</td>\n",
       "    </tr>\n",
       "    <tr>\n",
       "      <th>8</th>\n",
       "      <td>6.321667</td>\n",
       "      <td>2.63</td>\n",
       "      <td>1.743513</td>\n",
       "    </tr>\n",
       "    <tr>\n",
       "      <th>9</th>\n",
       "      <td>7.296667</td>\n",
       "      <td>3.60</td>\n",
       "      <td>2.057463</td>\n",
       "    </tr>\n",
       "    <tr>\n",
       "      <th>10</th>\n",
       "      <td>8.328333</td>\n",
       "      <td>4.60</td>\n",
       "      <td>2.302585</td>\n",
       "    </tr>\n",
       "    <tr>\n",
       "      <th>11</th>\n",
       "      <td>9.345833</td>\n",
       "      <td>6.42</td>\n",
       "      <td>2.635947</td>\n",
       "    </tr>\n",
       "    <tr>\n",
       "      <th>12</th>\n",
       "      <td>10.289167</td>\n",
       "      <td>8.63</td>\n",
       "      <td>2.931773</td>\n",
       "    </tr>\n",
       "    <tr>\n",
       "      <th>13</th>\n",
       "      <td>23.218611</td>\n",
       "      <td>42.00</td>\n",
       "      <td>4.514198</td>\n",
       "    </tr>\n",
       "  </tbody>\n",
       "</table>\n",
       "</div>"
      ],
      "text/plain": [
       "    relative time     OD     LogOD\n",
       "2        0.315278   0.46  0.000000\n",
       "3        1.302778   0.71  0.434038\n",
       "4        2.301389   0.93  0.703958\n",
       "5        3.329444   1.25  0.999672\n",
       "6        4.374444   1.53  1.201797\n",
       "7        5.328056   2.00  1.469676\n",
       "8        6.321667   2.63  1.743513\n",
       "9        7.296667   3.60  2.057463\n",
       "10       8.328333   4.60  2.302585\n",
       "11       9.345833   6.42  2.635947\n",
       "12      10.289167   8.63  2.931773\n",
       "13      23.218611  42.00  4.514198"
      ]
     },
     "execution_count": 62,
     "metadata": {},
     "output_type": "execute_result"
    }
   ],
   "source": [
    "df"
   ]
  },
  {
   "cell_type": "code",
   "execution_count": null,
   "id": "bcf75385-4f54-4c84-9e9b-2f29689e65e9",
   "metadata": {},
   "outputs": [],
   "source": [
    "df=df.set_index(\"relative time\")"
   ]
  },
  {
   "cell_type": "markdown",
   "id": "c8e39a6a-81cc-4530-9c02-c936b47deeda",
   "metadata": {},
   "source": [
    "index is automatically taken as x-axis if we plot the df. set_index is a function that helps replacing the index with our column of interst. set-index is a function from pandas library. "
   ]
  },
  {
   "cell_type": "code",
   "execution_count": 70,
   "id": "b8f3ba15-6c15-4cd2-87e9-90120d3ed5c4",
   "metadata": {},
   "outputs": [
    {
     "data": {
      "text/html": [
       "<div>\n",
       "<style scoped>\n",
       "    .dataframe tbody tr th:only-of-type {\n",
       "        vertical-align: middle;\n",
       "    }\n",
       "\n",
       "    .dataframe tbody tr th {\n",
       "        vertical-align: top;\n",
       "    }\n",
       "\n",
       "    .dataframe thead th {\n",
       "        text-align: right;\n",
       "    }\n",
       "</style>\n",
       "<table border=\"1\" class=\"dataframe\">\n",
       "  <thead>\n",
       "    <tr style=\"text-align: right;\">\n",
       "      <th></th>\n",
       "      <th>OD</th>\n",
       "      <th>LogOD</th>\n",
       "    </tr>\n",
       "    <tr>\n",
       "      <th>relative time</th>\n",
       "      <th></th>\n",
       "      <th></th>\n",
       "    </tr>\n",
       "  </thead>\n",
       "  <tbody>\n",
       "    <tr>\n",
       "      <th>0.315278</th>\n",
       "      <td>0.46</td>\n",
       "      <td>0.000000</td>\n",
       "    </tr>\n",
       "    <tr>\n",
       "      <th>1.302778</th>\n",
       "      <td>0.71</td>\n",
       "      <td>0.434038</td>\n",
       "    </tr>\n",
       "    <tr>\n",
       "      <th>2.301389</th>\n",
       "      <td>0.93</td>\n",
       "      <td>0.703958</td>\n",
       "    </tr>\n",
       "    <tr>\n",
       "      <th>3.329444</th>\n",
       "      <td>1.25</td>\n",
       "      <td>0.999672</td>\n",
       "    </tr>\n",
       "    <tr>\n",
       "      <th>4.374444</th>\n",
       "      <td>1.53</td>\n",
       "      <td>1.201797</td>\n",
       "    </tr>\n",
       "    <tr>\n",
       "      <th>5.328056</th>\n",
       "      <td>2.00</td>\n",
       "      <td>1.469676</td>\n",
       "    </tr>\n",
       "    <tr>\n",
       "      <th>6.321667</th>\n",
       "      <td>2.63</td>\n",
       "      <td>1.743513</td>\n",
       "    </tr>\n",
       "    <tr>\n",
       "      <th>7.296667</th>\n",
       "      <td>3.60</td>\n",
       "      <td>2.057463</td>\n",
       "    </tr>\n",
       "    <tr>\n",
       "      <th>8.328333</th>\n",
       "      <td>4.60</td>\n",
       "      <td>2.302585</td>\n",
       "    </tr>\n",
       "    <tr>\n",
       "      <th>9.345833</th>\n",
       "      <td>6.42</td>\n",
       "      <td>2.635947</td>\n",
       "    </tr>\n",
       "    <tr>\n",
       "      <th>10.289167</th>\n",
       "      <td>8.63</td>\n",
       "      <td>2.931773</td>\n",
       "    </tr>\n",
       "    <tr>\n",
       "      <th>23.218611</th>\n",
       "      <td>42.00</td>\n",
       "      <td>4.514198</td>\n",
       "    </tr>\n",
       "  </tbody>\n",
       "</table>\n",
       "</div>"
      ],
      "text/plain": [
       "                  OD     LogOD\n",
       "relative time                 \n",
       "0.315278        0.46  0.000000\n",
       "1.302778        0.71  0.434038\n",
       "2.301389        0.93  0.703958\n",
       "3.329444        1.25  0.999672\n",
       "4.374444        1.53  1.201797\n",
       "5.328056        2.00  1.469676\n",
       "6.321667        2.63  1.743513\n",
       "7.296667        3.60  2.057463\n",
       "8.328333        4.60  2.302585\n",
       "9.345833        6.42  2.635947\n",
       "10.289167       8.63  2.931773\n",
       "23.218611      42.00  4.514198"
      ]
     },
     "execution_count": 70,
     "metadata": {},
     "output_type": "execute_result"
    }
   ],
   "source": [
    "df"
   ]
  },
  {
   "cell_type": "code",
   "execution_count": 72,
   "id": "9a0ac72f-3141-4b2e-ba2f-f712170af83f",
   "metadata": {},
   "outputs": [
    {
     "data": {
      "text/plain": [
       "<Axes: xlabel='relative time'>"
      ]
     },
     "execution_count": 72,
     "metadata": {},
     "output_type": "execute_result"
    },
    {
     "data": {
      "image/png": "[encoded data removed]",
      "text/plain": [
       "<Figure size 640x480 with 1 Axes>"
      ]
     },
     "metadata": {},
     "output_type": "display_data"
    }
   ],
   "source": [
    "df.plot()"
   ]
  },
  {
   "cell_type": "code",
   "execution_count": 74,
   "id": "7bcfa232-5d3c-463b-9ee9-6bc1078202f9",
   "metadata": {},
   "outputs": [
    {
     "data": {
      "text/plain": [
       "<Axes: xlabel='relative time'>"
      ]
     },
     "execution_count": 74,
     "metadata": {},
     "output_type": "execute_result"
    },
    {
     "data": {
      "image/png": "[encoded data removed]",
      "text/plain": [
       "<Figure size 640x480 with 1 Axes>"
      ]
     },
     "metadata": {},
     "output_type": "display_data"
    }
   ],
   "source": [
    "df[[\"OD\"]].plot()"
   ]
  },
  {
   "cell_type": "code",
   "execution_count": 76,
   "id": "c0ac0763-e223-4146-b962-708063a6a9e4",
   "metadata": {
    "scrolled": true
   },
   "outputs": [
    {
     "data": {
      "text/plain": [
       "<Axes: xlabel='relative time'>"
      ]
     },
     "execution_count": 76,
     "metadata": {},
     "output_type": "execute_result"
    },
    {
     "data": {
      "image/png": "[encoded data removed]",
      "text/plain": [
       "<Figure size 640x480 with 1 Axes>"
      ]
     },
     "metadata": {},
     "output_type": "display_data"
    }
   ],
   "source": [
    "df[[\"LogOD\"]].plot()"
   ]
  },
  {
   "cell_type": "code",
   "execution_count": 87,
   "id": "c9f58725-eec1-4bfa-979b-409401b31d1e",
   "metadata": {},
   "outputs": [
    {
     "data": {
      "text/plain": [
       "relative time\n",
       "0.315278      0.46\n",
       "1.302778      0.71\n",
       "2.301389      0.93\n",
       "3.329444      1.25\n",
       "4.374444      1.53\n",
       "5.328056      2.00\n",
       "6.321667      2.63\n",
       "7.296667      3.60\n",
       "8.328333      4.60\n",
       "9.345833      6.42\n",
       "10.289167     8.63\n",
       "23.218611    42.00\n",
       "Name: OD, dtype: float64"
      ]
     },
     "execution_count": 87,
     "metadata": {},
     "output_type": "execute_result"
    }
   ],
   "source": [
    "df[\"OD\"]"
   ]
  },
  {
   "cell_type": "markdown",
   "id": "18247219-3d5b-4ff6-8c93-2c54deecfc3b",
   "metadata": {},
   "source": [
    "This is data series. "
   ]
  },
  {
   "cell_type": "code",
   "execution_count": 89,
   "id": "dbf74c3c-de04-4c39-9d72-2b40550cb9d4",
   "metadata": {},
   "outputs": [
    {
     "data": {
      "text/html": [
       "<div>\n",
       "<style scoped>\n",
       "    .dataframe tbody tr th:only-of-type {\n",
       "        vertical-align: middle;\n",
       "    }\n",
       "\n",
       "    .dataframe tbody tr th {\n",
       "        vertical-align: top;\n",
       "    }\n",
       "\n",
       "    .dataframe thead th {\n",
       "        text-align: right;\n",
       "    }\n",
       "</style>\n",
       "<table border=\"1\" class=\"dataframe\">\n",
       "  <thead>\n",
       "    <tr style=\"text-align: right;\">\n",
       "      <th></th>\n",
       "      <th>OD</th>\n",
       "    </tr>\n",
       "    <tr>\n",
       "      <th>relative time</th>\n",
       "      <th></th>\n",
       "    </tr>\n",
       "  </thead>\n",
       "  <tbody>\n",
       "    <tr>\n",
       "      <th>0.315278</th>\n",
       "      <td>0.46</td>\n",
       "    </tr>\n",
       "    <tr>\n",
       "      <th>1.302778</th>\n",
       "      <td>0.71</td>\n",
       "    </tr>\n",
       "    <tr>\n",
       "      <th>2.301389</th>\n",
       "      <td>0.93</td>\n",
       "    </tr>\n",
       "    <tr>\n",
       "      <th>3.329444</th>\n",
       "      <td>1.25</td>\n",
       "    </tr>\n",
       "    <tr>\n",
       "      <th>4.374444</th>\n",
       "      <td>1.53</td>\n",
       "    </tr>\n",
       "    <tr>\n",
       "      <th>5.328056</th>\n",
       "      <td>2.00</td>\n",
       "    </tr>\n",
       "    <tr>\n",
       "      <th>6.321667</th>\n",
       "      <td>2.63</td>\n",
       "    </tr>\n",
       "    <tr>\n",
       "      <th>7.296667</th>\n",
       "      <td>3.60</td>\n",
       "    </tr>\n",
       "    <tr>\n",
       "      <th>8.328333</th>\n",
       "      <td>4.60</td>\n",
       "    </tr>\n",
       "    <tr>\n",
       "      <th>9.345833</th>\n",
       "      <td>6.42</td>\n",
       "    </tr>\n",
       "    <tr>\n",
       "      <th>10.289167</th>\n",
       "      <td>8.63</td>\n",
       "    </tr>\n",
       "    <tr>\n",
       "      <th>23.218611</th>\n",
       "      <td>42.00</td>\n",
       "    </tr>\n",
       "  </tbody>\n",
       "</table>\n",
       "</div>"
      ],
      "text/plain": [
       "                  OD\n",
       "relative time       \n",
       "0.315278        0.46\n",
       "1.302778        0.71\n",
       "2.301389        0.93\n",
       "3.329444        1.25\n",
       "4.374444        1.53\n",
       "5.328056        2.00\n",
       "6.321667        2.63\n",
       "7.296667        3.60\n",
       "8.328333        4.60\n",
       "9.345833        6.42\n",
       "10.289167       8.63\n",
       "23.218611      42.00"
      ]
     },
     "execution_count": 89,
     "metadata": {},
     "output_type": "execute_result"
    }
   ],
   "source": [
    "df[[\"OD\"]]"
   ]
  },
  {
   "cell_type": "markdown",
   "id": "fbe62ad8-0df6-46eb-a696-776f1d39533d",
   "metadata": {},
   "source": [
    "this is data frame. Difference between data series and Data frame: data series has only one column. Data frame can have multiple columns. "
   ]
  },
  {
   "cell_type": "code",
   "execution_count": null,
   "id": "e4dc334f-df05-4434-81de-4b206e9115a9",
   "metadata": {},
   "outputs": [],
   "source": []
  }
 ],
 "metadata": {
  "kernelspec": {
   "display_name": "Python 3 (ipykernel)",
   "language": "python",
   "name": "python3"
  },
  "language_info": {
   "codemirror_mode": {
    "name": "ipython",
    "version": 3
   },
   "file_extension": ".py",
   "mimetype": "text/x-python",
   "name": "python",
   "nbconvert_exporter": "python",
   "pygments_lexer": "ipython3",
   "version": "3.12.4"
  }
 },
 "nbformat": 4,
 "nbformat_minor": 5
}
