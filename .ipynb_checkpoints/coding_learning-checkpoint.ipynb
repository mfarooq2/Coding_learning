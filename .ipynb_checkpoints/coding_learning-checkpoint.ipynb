{
 "cells": [
  {
   "cell_type": "code",
   "execution_count": 1,
   "id": "0f7c50c9-a3a3-42e9-966e-60b3f68be608",
   "metadata": {},
   "outputs": [
    {
     "name": "stderr",
     "output_type": "stream",
     "text": [
      "'pwd' is not recognized as an internal or external command,\n",
      "operable program or batch file.\n"
     ]
    }
   ],
   "source": [
    "!pwd"
   ]
  },
  {
   "cell_type": "code",
   "execution_count": 3,
   "id": "47ae1537-93c0-43e1-ab41-c4fb5cc52340",
   "metadata": {},
   "outputs": [
    {
     "name": "stderr",
     "output_type": "stream",
     "text": [
      "'ls' is not recognized as an internal or external command,\n",
      "operable program or batch file.\n"
     ]
    }
   ],
   "source": [
    "!ls"
   ]
  },
  {
   "cell_type": "markdown",
   "id": "9bf34136-6e64-45b4-8540-dcc075f0f97e",
   "metadata": {},
   "source": [
    "#integer float and string \n"
   ]
  },
  {
   "cell_type": "markdown",
   "id": "6e77e64e-ed80-4947-9cd1-fc9815aa9e8e",
   "metadata": {},
   "source": [
    "integer is number 3, 4, 5, 6 "
   ]
  },
  {
   "cell_type": "markdown",
   "id": "78e771a9-fbb9-4736-a894-7369bbd1fb98",
   "metadata": {},
   "source": [
    "Float is integer with point 0.3 or 0.5 and string is normal text \n",
    "Data structures"
   ]
  },
  {
   "cell_type": "code",
   "execution_count": 6,
   "id": "9ca6da85-6a16-431b-86a9-6b452315e38b",
   "metadata": {},
   "outputs": [],
   "source": [
    "a=[1,2,\"cat\",4]"
   ]
  },
  {
   "cell_type": "code",
   "execution_count": 8,
   "id": "85b17241-198f-42d4-8ab5-e57a3cac6314",
   "metadata": {},
   "outputs": [
    {
     "name": "stdout",
     "output_type": "stream",
     "text": [
      "[1, 2, 'cat', 4]\n"
     ]
    }
   ],
   "source": [
    "print (a)"
   ]
  },
  {
   "cell_type": "code",
   "execution_count": 10,
   "id": "d5f219d7-f836-498e-a70a-b205a9dfdf92",
   "metadata": {},
   "outputs": [
    {
     "ename": "TypeError",
     "evalue": "list.append() takes exactly one argument (3 given)",
     "output_type": "error",
     "traceback": [
      "\u001b[1;31m---------------------------------------------------------------------------\u001b[0m",
      "\u001b[1;31mTypeError\u001b[0m                                 Traceback (most recent call last)",
      "Cell \u001b[1;32mIn[10], line 1\u001b[0m\n\u001b[1;32m----> 1\u001b[0m a\u001b[38;5;241m.\u001b[39mappend(\u001b[38;5;124m\"\u001b[39m\u001b[38;5;124mdog\u001b[39m\u001b[38;5;124m\"\u001b[39m,\u001b[38;5;241m6\u001b[39m,\u001b[38;5;241m7\u001b[39m)\n",
      "\u001b[1;31mTypeError\u001b[0m: list.append() takes exactly one argument (3 given)"
     ]
    }
   ],
   "source": [
    "a.append(\"dog\",6,7)"
   ]
  },
  {
   "cell_type": "code",
   "execution_count": 12,
   "id": "fe64cb81-59f9-4395-acd0-673fc771ef8f",
   "metadata": {},
   "outputs": [],
   "source": [
    "a.append(\"dog\")"
   ]
  },
  {
   "cell_type": "code",
   "execution_count": 14,
   "id": "fa2276f5-2f39-4b03-b4dd-118c929a7cd2",
   "metadata": {},
   "outputs": [
    {
     "name": "stdout",
     "output_type": "stream",
     "text": [
      "[1, 2, 'cat', 4, 'dog']\n"
     ]
    }
   ],
   "source": [
    "print (a)"
   ]
  },
  {
   "cell_type": "code",
   "execution_count": 16,
   "id": "8da8b1fc-e208-4150-8b25-d18aad7cc85a",
   "metadata": {},
   "outputs": [
    {
     "data": {
      "text/plain": [
       "'dog'"
      ]
     },
     "execution_count": 16,
     "metadata": {},
     "output_type": "execute_result"
    }
   ],
   "source": [
    "a.pop()"
   ]
  },
  {
   "cell_type": "code",
   "execution_count": 18,
   "id": "63fb5e6b-2136-4511-8d13-a8b588dfd8e9",
   "metadata": {},
   "outputs": [
    {
     "name": "stdout",
     "output_type": "stream",
     "text": [
      "[1, 2, 'cat', 4]\n"
     ]
    }
   ],
   "source": [
    "print (a)"
   ]
  },
  {
   "cell_type": "markdown",
   "id": "3cb9b9bc-1177-4440-92ec-648efd876462",
   "metadata": {},
   "source": [
    "how to access a specific entry. this is done by indexing. Indexing is numbered list of entries. It can be used as serial number. "
   ]
  },
  {
   "cell_type": "markdown",
   "id": "e74b18ef-a9eb-437a-b025-d8b0cf585c7c",
   "metadata": {},
   "source": [
    "indexing starts from zero in python. "
   ]
  },
  {
   "cell_type": "code",
   "execution_count": 22,
   "id": "be1344d0-109e-409b-8333-fcebb58dcad3",
   "metadata": {},
   "outputs": [
    {
     "data": {
      "text/plain": [
       "2"
      ]
     },
     "execution_count": 22,
     "metadata": {},
     "output_type": "execute_result"
    }
   ],
   "source": [
    "a[1]"
   ]
  },
  {
   "cell_type": "code",
   "execution_count": 24,
   "id": "fa527592-56b9-4eec-b084-22907d96f002",
   "metadata": {},
   "outputs": [
    {
     "data": {
      "text/plain": [
       "1"
      ]
     },
     "execution_count": 24,
     "metadata": {},
     "output_type": "execute_result"
    }
   ],
   "source": [
    "a[0]"
   ]
  },
  {
   "cell_type": "markdown",
   "id": "d76dd835-7041-4e12-b530-91d14e9a5bdb",
   "metadata": {},
   "source": [
    "to find the last entry of a list or series by indexing "
   ]
  },
  {
   "cell_type": "code",
   "execution_count": 27,
   "id": "beeb1053-189c-4673-8c46-b552741272ab",
   "metadata": {},
   "outputs": [
    {
     "data": {
      "text/plain": [
       "4"
      ]
     },
     "execution_count": 27,
     "metadata": {},
     "output_type": "execute_result"
    }
   ],
   "source": [
    "a[-1]"
   ]
  },
  {
   "cell_type": "code",
   "execution_count": 29,
   "id": "b41c95fe-8f0e-48c8-b6ef-176d6f929cba",
   "metadata": {},
   "outputs": [
    {
     "data": {
      "text/plain": [
       "'cat'"
      ]
     },
     "execution_count": 29,
     "metadata": {},
     "output_type": "execute_result"
    }
   ],
   "source": [
    "a[-2]"
   ]
  },
  {
   "cell_type": "code",
   "execution_count": 31,
   "id": "04ee45bd-6d94-4639-8372-1aaa6a94f7e2",
   "metadata": {},
   "outputs": [
    {
     "data": {
      "text/plain": [
       "4"
      ]
     },
     "execution_count": 31,
     "metadata": {},
     "output_type": "execute_result"
    }
   ],
   "source": [
    "a[3]"
   ]
  },
  {
   "cell_type": "code",
   "execution_count": 33,
   "id": "7724465b-a74d-4361-a221-b816af3c5756",
   "metadata": {},
   "outputs": [
    {
     "data": {
      "text/plain": [
       "'cat'"
      ]
     },
     "execution_count": 33,
     "metadata": {},
     "output_type": "execute_result"
    }
   ],
   "source": [
    "a[2]"
   ]
  },
  {
   "cell_type": "code",
   "execution_count": 35,
   "id": "01ddf185-81ce-4d6b-bac2-3bfe0f8deee5",
   "metadata": {},
   "outputs": [
    {
     "data": {
      "text/plain": [
       "[1, 2]"
      ]
     },
     "execution_count": 35,
     "metadata": {},
     "output_type": "execute_result"
    }
   ],
   "source": [
    "a[0:2]"
   ]
  },
  {
   "cell_type": "markdown",
   "id": "158b6b63-f3ec-4880-a999-845a3073f90e",
   "metadata": {},
   "source": [
    "loop"
   ]
  },
  {
   "cell_type": "code",
   "execution_count": 38,
   "id": "e7544198-d535-4c8f-ac14-e22205393129",
   "metadata": {},
   "outputs": [
    {
     "name": "stdout",
     "output_type": "stream",
     "text": [
      "0\n",
      "1\n",
      "2\n",
      "3\n"
     ]
    }
   ],
   "source": [
    "for i in range(len(a)):\n",
    "    print(i)"
   ]
  },
  {
   "cell_type": "code",
   "execution_count": 40,
   "id": "c3a583d5-6d9b-40a1-b7fd-9f0fdf20fe22",
   "metadata": {},
   "outputs": [
    {
     "name": "stdout",
     "output_type": "stream",
     "text": [
      "1\n",
      "2\n",
      "cat\n",
      "4\n"
     ]
    }
   ],
   "source": [
    "for i in a:\n",
    "    print(i)"
   ]
  },
  {
   "cell_type": "code",
   "execution_count": 42,
   "id": "217e2322-3864-4fd7-bb5a-2102181e3fac",
   "metadata": {},
   "outputs": [],
   "source": [
    "b=range(1,10)"
   ]
  },
  {
   "cell_type": "code",
   "execution_count": 44,
   "id": "6b1bffd2-7847-4bfe-8f36-8b0e377010d4",
   "metadata": {},
   "outputs": [
    {
     "name": "stdout",
     "output_type": "stream",
     "text": [
      "range(1, 10)\n"
     ]
    }
   ],
   "source": [
    "print(b)"
   ]
  },
  {
   "cell_type": "code",
   "execution_count": 46,
   "id": "e71cccbd-7834-47f3-9a4f-0519842af51a",
   "metadata": {},
   "outputs": [],
   "source": [
    "b=[i for i in range(10)]"
   ]
  },
  {
   "cell_type": "markdown",
   "id": "8678f109-a258-423f-8bbd-27c0e7befda6",
   "metadata": {},
   "source": [
    "the above example is list comprehension. "
   ]
  },
  {
   "cell_type": "code",
   "execution_count": 48,
   "id": "de89e7a2-ef46-4eec-87ac-95d0d28a6ad7",
   "metadata": {},
   "outputs": [
    {
     "name": "stdout",
     "output_type": "stream",
     "text": [
      "[0, 1, 2, 3, 4, 5, 6, 7, 8, 9]\n"
     ]
    }
   ],
   "source": [
    "print(b)"
   ]
  },
  {
   "cell_type": "code",
   "execution_count": 50,
   "id": "1f1375a9-a224-4244-8622-199d128ee73f",
   "metadata": {},
   "outputs": [],
   "source": [
    "s=0\n",
    "for i in b:\n",
    "    s=s+i"
   ]
  },
  {
   "cell_type": "code",
   "execution_count": 52,
   "id": "5012bc0c-f441-4c00-8f26-eff4646ed786",
   "metadata": {},
   "outputs": [
    {
     "name": "stdout",
     "output_type": "stream",
     "text": [
      "45\n"
     ]
    }
   ],
   "source": [
    "print(s)"
   ]
  },
  {
   "cell_type": "code",
   "execution_count": 54,
   "id": "6f154ad4-9250-46f6-9db2-decec05ff2b1",
   "metadata": {},
   "outputs": [
    {
     "data": {
      "text/plain": [
       "45"
      ]
     },
     "execution_count": 54,
     "metadata": {},
     "output_type": "execute_result"
    }
   ],
   "source": [
    "sum(b)"
   ]
  },
  {
   "cell_type": "code",
   "execution_count": null,
   "id": "2e4193d0-e6a8-4e8f-90fb-7b0b6fa30d57",
   "metadata": {},
   "outputs": [],
   "source": []
  }
 ],
 "metadata": {
  "kernelspec": {
   "display_name": "Python 3 (ipykernel)",
   "language": "python",
   "name": "python3"
  },
  "language_info": {
   "codemirror_mode": {
    "name": "ipython",
    "version": 3
   },
   "file_extension": ".py",
   "mimetype": "text/x-python",
   "name": "python",
   "nbconvert_exporter": "python",
   "pygments_lexer": "ipython3",
   "version": "3.12.4"
  }
 },
 "nbformat": 4,
 "nbformat_minor": 5
}
