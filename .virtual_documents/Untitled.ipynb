import pandas as pd
import glob





glob.glob("example_data/*")


data=pd.read_excel('example_data\\20240926 F52 Labfors.xlsx',sheet_name="Growth curve")














df=data[["relative time","OD","LogOD"]][2:14]





df


df=df.set_index("relative time")





df


df.plot()


df[["OD"]].plot()


df[["LogOD"]].plot()


df["OD"]





df[["OD"]]






