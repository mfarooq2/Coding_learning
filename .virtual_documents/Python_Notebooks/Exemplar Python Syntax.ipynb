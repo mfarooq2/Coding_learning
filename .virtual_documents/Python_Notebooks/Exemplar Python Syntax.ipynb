














# 1.
### YOUR CODE HERE ###
theater_id = "b79cn10k"

# 2.
### YOUR CODE HERE ###
print(theater_id)














# 1.
### YOUR CODE HERE ###
ticket_type = "Adult"

# 2.
### YOUR CODE HERE ###
print(ticket_type)














# 1.
### YOUR CODE HERE ###
adult_tickets_sold = 59.0

# 2.
### YOUR CODE HERE ###
type(adult_tickets_sold)














# 1.
### YOUR CODE HERE ###
adult_tickets_sold = int(adult_tickets_sold)

# 2.
### YOUR CODE HERE ###
type(adult_tickets_sold)


















