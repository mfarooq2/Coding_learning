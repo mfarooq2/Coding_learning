!pwd


!ls











a=[1,2,"cat",4]


print (a)


a.append("dog",6,7)


a.append("dog")


print (a)


a.pop()


print (a)








a[1]


a[0]





a[-1]


a[-2]


a[3]


a[2]


a[0:2]





for i in range(len(a)):
    print(i)


for i in a:
    print(i)


b=range(1,10)


print(b)


b=[i for i in range(10)]





print(b)


s=0
for i in b:
    s=s+i


print(s)


sum(b)



