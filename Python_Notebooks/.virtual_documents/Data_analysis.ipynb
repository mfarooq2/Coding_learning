import pandas as pd


#dataframe=pd.read_excel('F38_Labfors_Dataset.xlsx',sheet_name='F38 20240528',header=2)
dataframe=pd.read_csv('F38_Labfors_Dataset.csv')
cols=dataframe.columns
cols=[c.replace(' ','_') for c in cols]
dataframe.columns=cols
dataframe['Date_Time_UTC']= pd.to_datetime(dataframe['Date_Time_UTC'])
dataframe['Date_Local_Time']= pd.to_datetime(dataframe['Date_Local_Time'])
dataframe=dataframe.set_index(['Date_Time_UTC'])
dataframe=dataframe.dropna(axis=1)


dataframe.columns


CO2=dataframe[['CO2flow,ml/min']]


CO2.plot()


O2=dataframe[['O2flow,ml/min']]


O2.plot()


air_flow=dataframe[['Air_Flow,_ml/min']]


air_flow.plot()


dataframe[['Feed,_%']].plot()


dataframe[['GenericGasAnalyser,Exit_CO2_%']].plot()


dataframe[['GenericGasAnalyser,Exit_O2_%']].plot()


dataframe[['pO2_%']].plot()


35*6








import pandas as pd


dataframe=pd.read_excel(r"C:\Users\MadihaNazir\Documents\Coding_learning\example_data\External Analysis Nucleic Acids Overview - 20240908.xlsx",sheet_name='Summary',header=0)


dataframe=dataframe.rename(columns={"Unnamed: 0":"NAcomponent"})


dataframe


dataframe.columns


newdf=dataframe[dataframe.NAcomponent.str.contains("G")|dataframe.NAcomponent.str.contains("A")]


newdf






