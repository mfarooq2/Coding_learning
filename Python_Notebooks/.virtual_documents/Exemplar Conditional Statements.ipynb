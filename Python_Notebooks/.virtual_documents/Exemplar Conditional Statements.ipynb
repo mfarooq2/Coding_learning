











def send_email(num_visits, visits_email):
    if num_visits>=visits_email:
        print("Send email")
    else:
        print("Not enough visits")



send_email(6, 5)


### YOUR CODE HERE ###
def send_email(num_visits, visits_email):
    if num_visits >= visits_email:
        print('Send email.')
    else:
        print('Not enough visits.')














send_email(num_visits=3, visits_email=5)    # Should print 'Not enough visits.'
send_email(num_visits=5, visits_email=5)    # Should print 'Send email.'
send_email(num_visits=15, visits_email=10)  # Should print 'Send email.'





send_email(5, 6, 8)


def send_email(num_visits, visits_email, visits_coupon):
    if num_visits>=visits_coupon:
        print("send email with coupon")
    elif num_visits>=visits_email:    
            print("send email")
    else:
        print("not enough visits")
            


send_email(6, 5, 8)


### YOUR CODE HERE ###
def send_email(num_visits, visits_email, visits_coupon):
    if num_visits >= visits_coupon:
        print('Send email with coupon.')
    elif num_visits >= visits_email:
        print('Send email only.')
    else:
        print('Not enough visits.')














send_email(num_visits=3, visits_email=5, visits_coupon=8)   # Should print 'Not enough visits.'
send_email(num_visits=5, visits_email=5, visits_coupon=8)   # Should print 'Send email only.'
send_email(num_visits=6, visits_email=5, visits_coupon=8)   # Should print 'Send email only.'
send_email(num_visits=8, visits_email=5, visits_coupon=8)   # Should print 'Send email with coupon.'
send_email(num_visits=10, visits_email=5, visits_coupon=8)  # Should print 'Send email with coupon.'






