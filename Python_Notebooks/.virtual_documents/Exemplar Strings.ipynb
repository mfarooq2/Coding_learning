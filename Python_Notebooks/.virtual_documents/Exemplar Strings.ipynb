











store_id = 1101
print(type(store_id))
# 1. ### YOUR CODE HERE ###
store_id = str(store_id)

# 2. ### YOUR CODE HERE ###
print(type(store_id))



unity_id=2002161
unity_id=str(unity_id)














Check = "02806"


Check[0:2]





def zip_checker(zipcode):
    if len(zipcode)==5:
        if zipcode[0:2]!="00":
            return zipcode
        else:
            return "INVALID ZIP Code"
    elif len(zipcode)==4:
        if zipcode[0:1]!="0":
            return "0"+zipcode
        else:
            return "INVALID ZIP Code"
    else:
        return "Invalid zip Code"

    








checker=zip_checker("2806")


print(checker)


checker=zip_checker("2806")
print(checker)


### YOUR CODE HERE ###
def zip_checker(zipcode):
    if len(zipcode) == 5:
        if zipcode[0:2] =='00':
            return 'Invalid ZIP Code.'
        else:
            return zipcode
    elif zipcode[0] != '0':
        zipcode = '0' + zipcode
        return zipcode
    else:
        return 'Invalid ZIP Code.'

















print(zip_checker('02806'))     # Should return 02806.
print(zip_checker('2806'))      # Should return 02806.
print(zip_checker('0280'))      # Should return 'Invalid ZIP Code.'
print(zip_checker('00280'))     # Should return 'Invalid ZIP Code.'





url = "https://exampleURL1.com/r626c36"

# 1. ### YOUR CODE HERE ###
id = url[-7:]

# 2. ### YOUR CODE HERE ###
print(id)














# Sample valid URL for reference while writing your function:
url = 'https://exampleURL1.com/r626c36'

### YOUR CODE HERE ###
def url_checker(url):
    url = url.split('/')
    protocol = url[0]
    store_id = url[-1]
    # If both protocol and store_id bad
    if protocol != 'https:' and len(store_id) != 7:
        print(f'{protocol} is an invalid protocol.',
            f'\n{store_id} is an invalid store ID.')
    # If just protocol bad
    elif protocol != 'https:':
        print(f'{protocol} is an invalid protocol.')
    # If just store_id bad
    elif len(store_id) != 7:
        print(f'{store_id} is an invalid store ID.')
    # If all ok
    else:
        return store_id


url_checker('http://exampleURL1.com/r626c3')


tp='http://exampleURL1.com/r626c3'


tp.split('/')


def url_checker(url):
    protocol=url.split('/')[0]
    store_ID=url.split('/')[-1]
    if protocol!='https:' and len(store_ID)!=7:
        print(f"{protocol} is an invalid protocol")
        print(f"{store_ID} is an invalid storeID")
    elif protocol!='https:' and len(store_ID)==7:
        print(f"{protocol} is an invalid protocol")
    elif protocol=='https:' and len(store_ID)!=7:
        print(f"{store_ID} is an invalid storeID")
    else:
        return store_ID





url_checker('https://exampleURL1.com/t626c33')

















                                                # Should return:
url_checker('http://exampleURL1.com/r626c3')    # 'http: is an invalid protocol.'
print()                                         # 'r626c3 is an invalid store ID.'

url_checker('ftps://exampleURL1.com/r626c36')   # 'ftps: is an invalid protocol.
print()
url_checker('https://exampleURL1.com/r626c3')   # 'r626c3 is an invalid store ID.'
print()
url_checker('https://exampleURL1.com/r626c36')  # 'r626c36'









